{
 "cells": [
  {
   "cell_type": "code",
   "execution_count": 4,
   "metadata": {},
   "outputs": [
    {
     "data": {
      "text/plain": [
       "['https://images2.imgbox.com/c9/9f/cwrEHeol_o.png',\n",
       " 'https://images2.imgbox.com/69/9e/UOrLGu5I_o.png',\n",
       " 'https://images2.imgbox.com/09/df/kaW9zmnS_o.png',\n",
       " 'https://images2.imgbox.com/0e/c9/35lTCG70_o.png',\n",
       " 'https://images2.imgbox.com/75/c6/yWvQieA3_o.png',\n",
       " 'https://images2.imgbox.com/ed/e1/ZEswv2Du_o.png',\n",
       " 'https://images2.imgbox.com/37/b7/xb3NFbEf_o.png',\n",
       " 'https://images2.imgbox.com/cf/f0/1HBCjgJ6_o.png',\n",
       " 'https://images2.imgbox.com/49/1a/y7Wty14E_o.png',\n",
       " 'https://images2.imgbox.com/3a/dd/p4iFDBmO_o.png',\n",
       " 'https://images2.imgbox.com/94/cf/LTgKOszS_o.png',\n",
       " 'https://images2.imgbox.com/9a/83/pzj5qiC3_o.png',\n",
       " 'https://images2.imgbox.com/3e/76/dwfLPZp5_o.png',\n",
       " 'https://images2.imgbox.com/4b/7c/Egadstek_o.png',\n",
       " 'https://images2.imgbox.com/fc/6a/altQOu4P_o.png',\n",
       " 'https://images2.imgbox.com/f6/ab/4jPqBgIz_o.png',\n",
       " 'https://images2.imgbox.com/b2/24/6xdGY6l3_o.png',\n",
       " 'https://images2.imgbox.com/09/09/o7EBHMvs_o.png',\n",
       " 'https://images2.imgbox.com/8d/4d/Wy0R0fEF_o.png',\n",
       " 'https://images2.imgbox.com/68/12/a8TBoCgK_o.png',\n",
       " 'https://images2.imgbox.com/21/60/BurwLTXl_o.png',\n",
       " 'https://images2.imgbox.com/49/cc/stK1kkho_o.png',\n",
       " 'https://images2.imgbox.com/49/dd/RK1m74pS_o.png',\n",
       " 'https://images2.imgbox.com/35/87/fsFUC9FA_o.png',\n",
       " 'https://images2.imgbox.com/5b/15/9gUEqSvr_o.png',\n",
       " 'https://images2.imgbox.com/6e/02/z3yocVNV_o.png',\n",
       " 'https://images2.imgbox.com/72/39/z5rqa48f_o.png',\n",
       " 'https://images2.imgbox.com/8e/30/FfUmtYT4_o.png']"
      ]
     },
     "execution_count": 4,
     "metadata": {},
     "output_type": "execute_result"
    }
   ],
   "source": [
    "import regex\n",
    "url_text = '[URL=https://imgbox.com/cwrEHeol][IMG]https://images2.imgbox.com/c9/9f/cwrEHeol_o.png[/IMG][/URL] [URL=https://imgbox.com/UOrLGu5I][IMG]https://images2.imgbox.com/69/9e/UOrLGu5I_o.png[/IMG][/URL] [URL=https://imgbox.com/kaW9zmnS][IMG]https://images2.imgbox.com/09/df/kaW9zmnS_o.png[/IMG][/URL] [URL=https://imgbox.com/35lTCG70][IMG]https://images2.imgbox.com/0e/c9/35lTCG70_o.png[/IMG][/URL] [URL=https://imgbox.com/yWvQieA3][IMG]https://images2.imgbox.com/75/c6/yWvQieA3_o.png[/IMG][/URL] [URL=https://imgbox.com/ZEswv2Du][IMG]https://images2.imgbox.com/ed/e1/ZEswv2Du_o.png[/IMG][/URL] [URL=https://imgbox.com/xb3NFbEf][IMG]https://images2.imgbox.com/37/b7/xb3NFbEf_o.png[/IMG][/URL] [URL=https://imgbox.com/1HBCjgJ6][IMG]https://images2.imgbox.com/cf/f0/1HBCjgJ6_o.png[/IMG][/URL] [URL=https://imgbox.com/y7Wty14E][IMG]https://images2.imgbox.com/49/1a/y7Wty14E_o.png[/IMG][/URL] [URL=https://imgbox.com/p4iFDBmO][IMG]https://images2.imgbox.com/3a/dd/p4iFDBmO_o.png[/IMG][/URL] [URL=https://imgbox.com/LTgKOszS][IMG]https://images2.imgbox.com/94/cf/LTgKOszS_o.png[/IMG][/URL] [URL=https://imgbox.com/pzj5qiC3][IMG]https://images2.imgbox.com/9a/83/pzj5qiC3_o.png[/IMG][/URL] [URL=https://imgbox.com/dwfLPZp5][IMG]https://images2.imgbox.com/3e/76/dwfLPZp5_o.png[/IMG][/URL] [URL=https://imgbox.com/Egadstek][IMG]https://images2.imgbox.com/4b/7c/Egadstek_o.png[/IMG][/URL] [URL=https://imgbox.com/altQOu4P][IMG]https://images2.imgbox.com/fc/6a/altQOu4P_o.png[/IMG][/URL] [URL=https://imgbox.com/4jPqBgIz][IMG]https://images2.imgbox.com/f6/ab/4jPqBgIz_o.png[/IMG][/URL] [URL=https://imgbox.com/6xdGY6l3][IMG]https://images2.imgbox.com/b2/24/6xdGY6l3_o.png[/IMG][/URL] [URL=https://imgbox.com/o7EBHMvs][IMG]https://images2.imgbox.com/09/09/o7EBHMvs_o.png[/IMG][/URL] [URL=https://imgbox.com/Wy0R0fEF][IMG]https://images2.imgbox.com/8d/4d/Wy0R0fEF_o.png[/IMG][/URL] [URL=https://imgbox.com/a8TBoCgK][IMG]https://images2.imgbox.com/68/12/a8TBoCgK_o.png[/IMG][/URL] [URL=https://imgbox.com/BurwLTXl][IMG]https://images2.imgbox.com/21/60/BurwLTXl_o.png[/IMG][/URL] [URL=https://imgbox.com/stK1kkho][IMG]https://images2.imgbox.com/49/cc/stK1kkho_o.png[/IMG][/URL] [URL=https://imgbox.com/RK1m74pS][IMG]https://images2.imgbox.com/49/dd/RK1m74pS_o.png[/IMG][/URL] [URL=https://imgbox.com/fsFUC9FA][IMG]https://images2.imgbox.com/35/87/fsFUC9FA_o.png[/IMG][/URL] [URL=https://imgbox.com/9gUEqSvr][IMG]https://images2.imgbox.com/5b/15/9gUEqSvr_o.png[/IMG][/URL] [URL=https://imgbox.com/z3yocVNV][IMG]https://images2.imgbox.com/6e/02/z3yocVNV_o.png[/IMG][/URL] [URL=https://imgbox.com/z5rqa48f][IMG]https://images2.imgbox.com/72/39/z5rqa48f_o.png[/IMG][/URL] [URL=https://imgbox.com/FfUmtYT4][IMG]https://images2.imgbox.com/8e/30/FfUmtYT4_o.png[/IMG][/URL]'\n",
    "# get all the image urls\n",
    "urls = regex.findall(r'IMG\\](.+?)\\[\\/IMG', url_text)\n",
    "# https://images2.imgbox.com/c9/9f/cwrEHeol_o.png"
   ]
  },
  {
   "cell_type": "code",
   "execution_count": 10,
   "metadata": {},
   "outputs": [],
   "source": [
    "cards = []\n",
    "# Generate cards in the format we want\n",
    "for i, url in enumerate(urls):\n",
    "    cards.append({\n",
    "    \"id\": url.split('/')[-1],\n",
    "    \"set\": \"swsh45sv\",\n",
    "    \"name\": \"Charizard VMAX\",\n",
    "    \"supertype\": \"Pokémon\",\n",
    "    \"subtypes\": [\"VMAX\"],\n",
    "    \"types\": [\"Fire\"],\n",
    "    \"number\": \"SV107\",\n",
    "    \"rarity\": \"Rare Holo VMAX\",\n",
    "    \"images\": {\n",
    "        \"small\": url,\n",
    "        \"large\": url,\n",
    "        \"foil\": \"/img/foils/swsh45/foils/sv107_foil_etched_swsecret.jpg\",\n",
    "        \"mask\": \"/img/foils/swsh45/masks/sv107_foil_etched_swsecret.png\"\n",
    "    }\n",
    "})"
   ]
  },
  {
   "cell_type": "code",
   "execution_count": 11,
   "metadata": {},
   "outputs": [],
   "source": [
    "import json\n",
    "\n",
    "with open('./public/data/cards.json', 'w') as f:\n",
    "    json.dump(cards, f, indent=4, ensure_ascii=False)"
   ]
  }
 ],
 "metadata": {
  "kernelspec": {
   "display_name": "Python 3",
   "language": "python",
   "name": "python3"
  },
  "language_info": {
   "codemirror_mode": {
    "name": "ipython",
    "version": 3
   },
   "file_extension": ".py",
   "mimetype": "text/x-python",
   "name": "python",
   "nbconvert_exporter": "python",
   "pygments_lexer": "ipython3",
   "version": "3.10.11"
  },
  "orig_nbformat": 4
 },
 "nbformat": 4,
 "nbformat_minor": 2
}
